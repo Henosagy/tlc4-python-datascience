{
 "cells": [
  {
   "cell_type": "code",
   "execution_count": 94,
   "id": "78f58483",
   "metadata": {},
   "outputs": [
    {
     "name": "stdout",
     "output_type": "stream",
     "text": [
      "0.22499689999949624\n",
      "1.22 µs ± 11.9 ns per loop (mean ± std. dev. of 7 runs, 1000000 loops each)\n"
     ]
    }
   ],
   "source": [
    "import timeit\n",
    "import numpy as np\n",
    "print(timeit.timeit(setup='myArray = range(1000)', stmt='[x ** 2 for x in myArray]', number=1000))\n",
    "\n",
    "otherArray = np.arange(1000)\n",
    "%timeit [otherArray ** 2]"
   ]
  },
  {
   "cell_type": "code",
   "execution_count": 96,
   "id": "2231427e",
   "metadata": {},
   "outputs": [
    {
     "name": "stdout",
     "output_type": "stream",
     "text": [
      "[[1.15800003e+02 1.16330002e+02 1.14760002e+02 1.16150002e+02\n",
      "  1.13013916e+02 2.87819000e+07]\n",
      " [1.15849998e+02 1.16510002e+02 1.15750000e+02 1.16019997e+02\n",
      "  1.12887413e+02 2.11181000e+07]\n",
      " [1.15919998e+02 1.16860001e+02 1.15809998e+02 1.16610001e+02\n",
      "  1.13461502e+02 2.21936000e+07]\n",
      " ...\n",
      " [1.70800003e+02 1.71470001e+02 1.69679993e+02 1.70570007e+02\n",
      "  1.68633423e+02 3.31855000e+07]\n",
      " [1.70100006e+02 1.70779999e+02 1.69710007e+02 1.70600006e+02\n",
      "  1.68663101e+02 2.14982000e+07]\n",
      " [1.71000000e+02 1.71850006e+02 1.70479996e+02 1.71080002e+02\n",
      "  1.69137650e+02 1.64802000e+07]]\n"
     ]
    }
   ],
   "source": [
    "import numpy as np\n",
    "import csv\n",
    "\n",
    "with open('AAPL-2017.csv', newline = '') as f:\n",
    "    reader = csv.DictReader(f)\n",
    "    stock = np.empty((0,6))\n",
    "    for row in reader:\n",
    "        oneRow = np.array([[row['Open'], row['High'], row['Low'], row['Close'], row['Adj Close'], row['Volume']]])\n",
    "        stock = np.append(stock, oneRow, axis=0)\n",
    "        \n",
    "stock2017 = np.array(stock).astype(float)\n",
    "print(stock2017)"
   ]
  },
  {
   "cell_type": "code",
   "execution_count": 79,
   "id": "4ac009b3",
   "metadata": {},
   "outputs": [
    {
     "name": "stdout",
     "output_type": "stream",
     "text": [
      "[[1.02610001e+02 1.05370003e+02 1.02000000e+02 1.05349998e+02\n",
      "  1.00274513e+02 6.76494000e+07]\n",
      " [1.05750000e+02 1.05849998e+02 1.02410004e+02 1.02709999e+02\n",
      "  9.77616810e+01 5.57910000e+07]\n",
      " [1.00559998e+02 1.02370003e+02 9.98700030e+01 1.00699997e+02\n",
      "  9.58485110e+01 6.84574000e+07]\n",
      " ...\n",
      " [1.15589996e+02 1.16519997e+02 1.15589996e+02 1.16519997e+02\n",
      "  1.13373917e+02 1.42495000e+07]\n",
      " [1.16519997e+02 1.17800003e+02 1.16489998e+02 1.17260002e+02\n",
      "  1.14093948e+02 1.82969000e+07]\n",
      " [1.17519997e+02 1.18019997e+02 1.16199997e+02 1.16760002e+02\n",
      "  1.13607445e+02 2.09059000e+07]]\n"
     ]
    }
   ],
   "source": [
    "import numpy as np\n",
    "import csv\n",
    "\n",
    "with open('AAPL-2016.csv', newline = '') as f:\n",
    "    reader = csv.DictReader(f)\n",
    "    stock1 = np.empty((0,6))\n",
    "    for row in reader:\n",
    "        oneRow = np.array([[row['Open'], row['High'], row['Low'], row['Close'], row['Adj Close'], row['Volume']]])\n",
    "        stock1 = np.append(stock1, oneRow, axis=0)\n",
    "        \n",
    "stock2016 = np.array(stock1).astype(float)\n",
    "print(stock2016)\n"
   ]
  },
  {
   "cell_type": "code",
   "execution_count": 72,
   "id": "230fb030",
   "metadata": {},
   "outputs": [],
   "source": [
    "#row_sum_2016 = stock2016.sum(axis=0)\n",
    "#column_sum_2016 = stock2016.sum(axis=1)\n",
    "\n",
    "#print('Row sum: \\n', row_sum_2016)\n",
    "\n",
    "#print('-' * 100)\n",
    "#print('Row sum length: \\n', len(row_sum_2016))\n",
    "\n",
    "#print('-' * 100)\n",
    "#print('Column sum: \\n', column_sum_2016)\n",
    "\n",
    "#print('-' * 100)\n",
    "#print('Column sum length: \\n', len(column_sum_2016))"
   ]
  },
  {
   "cell_type": "code",
   "execution_count": 97,
   "id": "9ec77305",
   "metadata": {},
   "outputs": [],
   "source": [
    "column_sum_2016 = stock2016.sum(axis=0)\n",
    "row_sum_2016 = stock2016.sum(axis=1)\n",
    "\n",
    "column_sum_2017 = stock2017.sum(axis=0)\n",
    "row_sum_2017 = stock2017.sum(axis=1)\n"
   ]
  },
  {
   "cell_type": "code",
   "execution_count": 98,
   "id": "5a3693fe",
   "metadata": {},
   "outputs": [
    {
     "name": "stdout",
     "output_type": "stream",
     "text": [
      "Column sum for 2016: \n",
      " [2.61028600e+04 2.63333400e+04 2.58981200e+04 2.61276600e+04\n",
      " 2.51754246e+04 9.63499570e+09]\n",
      "\n",
      "Row sum for 2016: \n",
      " [6.76499156e+07 5.57915145e+07 6.84578993e+07 8.10948835e+07\n",
      " 7.07984837e+07 4.97398877e+07 4.91546952e+07 6.24400889e+07\n",
      " 6.31705884e+07 7.90104789e+07 5.30881812e+07 7.23348756e+07\n",
      " 5.21619778e+07 6.58009964e+07 5.17949963e+07 7.50774940e+07\n",
      " 1.33370168e+08 5.56792643e+07 6.44169765e+07 4.09439768e+07\n",
      " 3.73576701e+07 4.59647740e+07 4.64721774e+07 4.64185711e+07\n",
      " 5.40218678e+07 4.43316701e+07 4.23440709e+07 5.00751645e+07\n",
      " 4.03518656e+07 4.90583756e+07 4.48636830e+07 3.90214822e+07\n",
      " 3.53746765e+07 3.42812787e+07 3.19430728e+07 3.62561717e+07\n",
      " 2.75831774e+07 2.89915815e+07 3.52167810e+07 5.04075926e+07\n",
      " 3.31700982e+07 3.69562014e+07 4.60556091e+07 3.58294055e+07\n",
      " 3.15624007e+07 2.72022011e+07 3.35141018e+07 2.74087061e+07\n",
      " 2.50766072e+07 4.00682177e+07 3.83040229e+07 3.44212240e+07\n",
      " 4.42057253e+07 3.55032260e+07 3.24449266e+07 2.57040271e+07\n",
      " 2.61335234e+07 1.94119231e+07 3.11906283e+07 4.56016421e+07\n",
      " 2.58889418e+07 2.58745422e+07 3.73567503e+07 2.65792446e+07\n",
      " 2.64046476e+07 3.18024409e+07 2.35822395e+07 2.94080418e+07\n",
      " 2.72328446e+07 3.32578532e+07 2.54744547e+07 4.69395491e+07\n",
      " 6.08345351e+07 3.23854313e+07 3.06115304e+07 3.15530268e+07\n",
      " 3.36836229e+07 2.80321208e+07 5.60167173e+07 1.14602582e+08\n",
      " 8.22431753e+07 6.85319647e+07 4.81605637e+07 5.68317699e+07\n",
      " 4.10259692e+07 3.58909638e+07 4.34586607e+07 3.29368615e+07\n",
      " 3.36872624e+07 2.87195611e+07 7.63151523e+07 4.43932493e+07\n",
      " 6.12602627e+07 4.69173658e+07 4.20628689e+07 3.04425677e+07\n",
      " 3.20264715e+07 3.80190780e+07 3.51406843e+07 3.81692921e+07\n",
      " 5.63316961e+07 3.62299961e+07 4.23076948e+07 2.91737901e+07\n",
      " 4.01920839e+07 2.80633857e+07 2.32929910e+07 2.24099925e+07\n",
      " 2.08485915e+07 2.66018925e+07 3.17133903e+07 3.80209860e+07\n",
      " 3.19323838e+07 2.94456839e+07 3.13272817e+07 6.10086757e+07\n",
      " 3.44123743e+07 3.55468742e+07 2.92195760e+07 3.22406761e+07\n",
      " 7.53118635e+07 4.54900582e+07 4.04453624e+07 3.65314674e+07\n",
      " 3.58368722e+07 2.60269755e+07 2.77056717e+07 3.09495721e+07\n",
      " 2.51400761e+07 2.89125792e+07 2.37953815e+07 2.41679832e+07\n",
      " 2.58926821e+07 3.89194876e+07 3.01374906e+07 3.64943934e+07\n",
      " 2.37803949e+07 2.62764964e+07 3.27024951e+07 2.83141905e+07\n",
      " 4.03833851e+07 5.62402810e+07 9.23453134e+07 3.98703149e+07\n",
      " 2.77342170e+07 3.81684231e+07 3.38171212e+07 3.02031231e+07\n",
      " 2.74092252e+07 4.05539316e+07 2.80377363e+07 2.63157393e+07\n",
      " 2.40090379e+07 2.74850377e+07 1.86609369e+07 2.58687412e+07\n",
      " 3.37949443e+07 2.53565418e+07 2.19852425e+07 2.53686420e+07\n",
      " 2.58207394e+07 2.12582407e+07 2.36756376e+07 2.50867337e+07\n",
      " 2.77668321e+07 2.49708306e+07 2.48644264e+07 2.96629267e+07\n",
      " 2.67020286e+07 2.68030345e+07 2.68809357e+07 4.23648369e+07\n",
      " 5.30025274e+07 4.65575165e+07 4.52933184e+07 6.21767360e+07\n",
      " 1.10889250e+08 8.99841705e+07 7.98874715e+07 4.70235681e+07\n",
      " 3.45148632e+07 3.60037637e+07 3.10745689e+07 5.24817626e+07\n",
      " 2.98699587e+07 2.46079611e+07 2.96416660e+07 3.58875595e+07\n",
      " 3.63796601e+07 2.17023595e+07 2.97373624e+07 2.14536622e+07\n",
      " 2.87798653e+07 2.43589669e+07 3.62365749e+07 6.40415815e+07\n",
      " 3.75873830e+07 3.51929802e+07 3.56527847e+07 2.36254833e+07\n",
      " 2.45540850e+07 2.00351793e+07 2.41263809e+07 2.31932795e+07\n",
      " 2.35392834e+07 4.81295863e+07 6.61347708e+07 3.45625707e+07\n",
      " 3.78622663e+07 2.64199645e+07 4.38263572e+07 2.83322546e+07\n",
      " 2.69331487e+07 3.08375416e+07 3.25605479e+07 2.40550509e+07\n",
      " 5.91769480e+07 5.71350407e+07 3.40946365e+07 5.11760282e+07\n",
      " 3.22650317e+07 5.88410405e+07 2.76325459e+07 2.84294471e+07\n",
      " 2.92651526e+07 2.59660564e+07 2.74269527e+07 1.14764545e+07\n",
      " 2.71945554e+07 2.85293528e+07 3.61628521e+07 3.70874464e+07\n",
      " 2.65285449e+07 3.43250436e+07 2.61960460e+07 2.99992487e+07\n",
      " 2.70688551e+07 3.44031641e+07 2.63749643e+07 4.37343708e+07\n",
      " 3.40323735e+07 4.65250759e+07 4.43516774e+07 2.77799791e+07\n",
      " 2.14255817e+07 2.37837819e+07 2.60864779e+07 1.42500776e+07\n",
      " 1.82974822e+07 2.09064821e+07]\n"
     ]
    }
   ],
   "source": [
    "print('Column sum for 2016: \\n', column_sum_2016)\n",
    "print('\\nRow sum for 2016: \\n', row_sum_2016)\n"
   ]
  },
  {
   "cell_type": "code",
   "execution_count": 99,
   "id": "37d98460",
   "metadata": {},
   "outputs": [
    {
     "name": "stdout",
     "output_type": "stream",
     "text": [
      "Column sum for 2017: \n",
      " [3.75911500e+04 3.78323300e+04 3.73521801e+04 3.76190900e+04\n",
      " 3.69337481e+04 6.78454180e+09]\n",
      "\n",
      "Row sum for 2017: \n",
      " [2.87824761e+07 2.11186770e+07 2.21941787e+07 3.17524840e+07\n",
      " 3.35624901e+07 2.44626915e+07 2.75891935e+07 2.70867917e+07\n",
      " 2.61124924e+07 3.44403936e+07 2.37135970e+07 2.55978952e+07\n",
      " 3.25984974e+07 2.20507975e+07 2.32115959e+07 3.23782033e+07\n",
      " 2.63382063e+07 2.05635067e+07 3.03781032e+07 4.92016026e+07\n",
      " 1.11985639e+08 3.37110387e+07 2.45079403e+07 2.68465456e+07\n",
      " 3.81844526e+07 2.30047553e+07 2.83505570e+07 2.00661587e+07\n",
      " 2.30360632e+07 3.32268688e+07 3.56237743e+07 2.25852740e+07\n",
      " 2.21988744e+07 2.45078792e+07 2.08375808e+07 2.07888811e+07\n",
      " 2.17772781e+07 2.02580816e+07 2.34835821e+07 3.64152920e+07\n",
      " 2.62116938e+07 2.11087936e+07 2.17506932e+07 1.74469937e+07\n",
      " 1.87078924e+07 2.21565888e+07 1.96134924e+07 1.74223923e+07\n",
      " 1.53097926e+07 2.56924969e+07 1.92327002e+07 4.38856987e+07\n",
      " 2.15427018e+07 3.95306011e+07 2.58609008e+07 2.03470021e+07\n",
      " 2.23963017e+07 2.35757978e+07 3.33755099e+07 2.91907163e+07\n",
      " 2.12080168e+07 1.96624150e+07 1.99864150e+07 1.98921176e+07\n",
      " 2.77186182e+07 2.11497163e+07 1.66729146e+07 1.89341135e+07\n",
      " 3.03801064e+07 2.03507051e+07 1.78236042e+07 1.65828047e+07\n",
      " 1.46982037e+07 1.73291025e+07 2.33203069e+07 1.73216083e+07\n",
      " 1.71350146e+07 1.88722184e+07 2.00419165e+07 1.42470157e+07\n",
      " 2.08611157e+07 3.36036271e+07 4.53529341e+07 4.56977281e+07\n",
      " 2.33726292e+07 2.73284370e+07 4.87531543e+07 3.91311667e+07\n",
      " 2.58064627e+07 2.72558638e+07 3.25277751e+07 2.60104762e+07\n",
      " 2.00492747e+07 5.07684556e+07 3.35689580e+07 2.69615632e+07\n",
      " 2.29671666e+07 1.99196678e+07 1.91787645e+07 1.92363660e+07\n",
      " 2.19283659e+07 2.01276656e+07 2.44519632e+07 1.64048622e+07\n",
      " 2.77714699e+07 2.53324672e+07 2.66256695e+07 2.10703733e+07\n",
      " 2.12515723e+07 6.48834516e+07 7.23080225e+07 3.41661302e+07\n",
      " 3.15319264e+07 3.21661159e+07 5.03618124e+07 3.25421240e+07\n",
      " 2.49008260e+07 2.12665252e+07 1.91070261e+07 3.54401272e+07\n",
      " 2.56931297e+07 2.47626196e+07 2.20831227e+07 3.15001168e+07\n",
      " 2.30248185e+07 1.42785176e+07 2.15703167e+07 2.41295117e+07\n",
      " 1.92024162e+07 2.10913208e+07 1.97825233e+07 2.48852256e+07\n",
      " 2.52001322e+07 2.01328399e+07 2.37942446e+07 1.78695453e+07\n",
      " 2.09237511e+07 1.72444513e+07 2.62533470e+07 2.14939542e+07\n",
      " 1.88546601e+07 1.57817644e+07 3.24770533e+07 1.72144455e+07\n",
      " 1.98466430e+07 3.53693450e+07 6.99375865e+07 2.70980775e+07\n",
      " 2.05606790e+07 2.18710873e+07 3.62066959e+07 2.61322987e+07\n",
      " 4.08050829e+07 2.62578839e+07 2.21234956e+07 2.94663038e+07\n",
      " 2.76724041e+07 2.79413924e+07 2.74288867e+07 2.63692826e+07\n",
      " 2.16053934e+07 1.93998960e+07 1.98196959e+07 2.54808968e+07\n",
      " 2.59668026e+07 2.95177066e+07 2.72704146e+07 2.67859172e+07\n",
      " 1.65919190e+07 2.94693103e+07 2.16525076e+07 2.19293048e+07\n",
      " 2.86122954e+07 3.15816030e+07 7.17148047e+07 4.49081947e+07\n",
      " 2.37614907e+07 4.91153948e+07 2.82701936e+07 2.08113928e+07\n",
      " 5.29521798e+07 3.75124688e+07 4.66461559e+07 4.43880498e+07\n",
      " 3.66607614e+07 2.55049682e+07 2.20062651e+07 2.63005653e+07\n",
      " 1.86995668e+07 1.62310697e+07 2.01645646e+07 2.12845721e+07\n",
      " 1.74083733e+07 1.62636774e+07 1.56177786e+07 1.69063795e+07\n",
      " 1.61258791e+07 1.63949821e+07 2.41222929e+07 1.89980984e+07\n",
      " 1.63749979e+07 4.25849785e+07 2.39748805e+07 2.19850801e+07\n",
      " 1.77579818e+07 2.12078802e+07 1.70012843e+07 4.44550053e+07\n",
      " 4.47016266e+07 3.60476401e+07 3.36386367e+07 4.13942341e+07\n",
      " 5.93994618e+07 3.50271650e+07 2.43623698e+07 2.44103751e+07\n",
      " 2.94834735e+07 2.51463721e+07 1.69829674e+07 2.47833584e+07\n",
      " 2.91589449e+07 2.36383536e+07 2.19003504e+07 1.62632484e+07\n",
      " 2.51321596e+07 2.55897693e+07 1.40275732e+07 2.07176697e+07\n",
      " 2.64296652e+07 4.16672497e+07 4.15280528e+07 3.97601503e+07\n",
      " 3.25432524e+07 2.73510463e+07 2.85608403e+07 2.56741451e+07\n",
      " 2.33560471e+07 3.52746543e+07 1.94100575e+07 2.38192606e+07\n",
      " 2.04773597e+07 4.01701662e+07 2.94219778e+07 2.74372716e+07\n",
      " 2.34764703e+07 2.09507723e+07 1.61154726e+07 3.31863512e+07\n",
      " 2.14990499e+07 1.64810535e+07]\n"
     ]
    }
   ],
   "source": [
    "print('Column sum for 2017: \\n', column_sum_2017)\n",
    "print('\\nRow sum for 2017: \\n', row_sum_2017)"
   ]
  },
  {
   "cell_type": "code",
   "execution_count": 104,
   "id": "1f6e515f",
   "metadata": {},
   "outputs": [
    {
     "name": "stdout",
     "output_type": "stream",
     "text": [
      "Traded volume in 2017:  6784729128.498174\n",
      "Traded volume in 2016:  9635125337.404533\n",
      "Difference in traded volumes between 2017 and 2016:  -2850396208.9063597\n"
     ]
    }
   ],
   "source": [
    "#traded_volume_2016 = column_sum_2016[5]\n",
    "#traded_volume_2017 = column_sum_2017[5]\n",
    "\n",
    "traded_volume_2016 = column_sum_2016.sum(axis=0)\n",
    "traded_volume_2017 = column_sum_2017.sum(axis=0)\n",
    "\n",
    "difference = traded_volume_2017  - traded_volume_2016 \n",
    "print('Traded volume in 2017: ', traded_volume_2017)\n",
    "print('Traded volume in 2016: ', traded_volume_2016)\n",
    "print('Difference in traded volumes between 2017 and 2016: ', difference)"
   ]
  },
  {
   "cell_type": "code",
   "execution_count": 91,
   "id": "1f17661f",
   "metadata": {},
   "outputs": [
    {
     "name": "stdout",
     "output_type": "stream",
     "text": [
      "Difference in traded volumes between 2017 and 2016 using change:  -2850396208.906359\n"
     ]
    }
   ],
   "source": [
    "change = column_sum_2017 - column_sum_2016\n",
    "\n",
    "csum = change.sum(axis=0)\n",
    "print('Difference in traded volumes between 2017 and 2016 using change: ',csum)"
   ]
  },
  {
   "cell_type": "code",
   "execution_count": 92,
   "id": "8f484099",
   "metadata": {},
   "outputs": [
    {
     "name": "stdout",
     "output_type": "stream",
     "text": [
      "Change: \n",
      " [ 1.14882900e+04  1.14989900e+04  1.14540601e+04  1.14914300e+04\n",
      "  1.17583235e+04 -2.85045390e+09]\n"
     ]
    }
   ],
   "source": [
    "print('Change: \\n',change)"
   ]
  },
  {
   "cell_type": "code",
   "execution_count": 103,
   "id": "c8cb9247",
   "metadata": {},
   "outputs": [
    {
     "name": "stdout",
     "output_type": "stream",
     "text": [
      "-2850453900.0\n"
     ]
    }
   ],
   "source": [
    "print(change[-1])"
   ]
  },
  {
   "cell_type": "code",
   "execution_count": 106,
   "id": "00dc9004",
   "metadata": {},
   "outputs": [
    {
     "name": "stdout",
     "output_type": "stream",
     "text": [
      "Change: \n",
      " [ 11488.29  11498.99  11454.06  11491.43  11758.32 -2850453900.00]\n"
     ]
    }
   ],
   "source": [
    "np.set_printoptions(formatter={'float': '{: 6.2f}'.format})\n",
    "print('Change: \\n',change)"
   ]
  },
  {
   "cell_type": "code",
   "execution_count": 107,
   "id": "d0d1bf23",
   "metadata": {},
   "outputs": [],
   "source": [
    "combined_years = np.concatenate((stock2016, stock2017))"
   ]
  },
  {
   "cell_type": "code",
   "execution_count": 108,
   "id": "eadfb3fc",
   "metadata": {},
   "outputs": [
    {
     "name": "stdout",
     "output_type": "stream",
     "text": [
      "[[ 102.61  105.37  102.00  105.35  100.27  67649400.00]\n",
      " [ 105.75  105.85  102.41  102.71  97.76  55791000.00]\n",
      " [ 100.56  102.37  99.87  100.70  95.85  68457400.00]\n",
      " ...\n",
      " [ 170.80  171.47  169.68  170.57  168.63  33185500.00]\n",
      " [ 170.10  170.78  169.71  170.60  168.66  21498200.00]\n",
      " [ 171.00  171.85  170.48  171.08  169.14  16480200.00]]\n",
      "500\n"
     ]
    }
   ],
   "source": [
    "print(combined_years)\n",
    "print(len(combined_years))"
   ]
  },
  {
   "cell_type": "code",
   "execution_count": 109,
   "id": "9bd3966e",
   "metadata": {},
   "outputs": [],
   "source": [
    "np.savetxt('combined_years.txt', combined_years, fmt ='%10.2f', delimiter=\",\")"
   ]
  },
  {
   "cell_type": "code",
   "execution_count": 110,
   "id": "11ca68f8",
   "metadata": {},
   "outputs": [
    {
     "name": "stdout",
     "output_type": "stream",
     "text": [
      "[[ 102.61  105.37  102.00  105.35  100.27  67649400.00]\n",
      " [ 105.75  105.85  102.41  102.71  97.76  55791000.00]\n",
      " [ 100.56  102.37  99.87  100.70  95.85  68457400.00]\n",
      " [ 98.68  100.13  96.43  96.45  91.80  81094400.00]\n",
      " [ 98.55  99.11  96.76  96.96  92.29  70798000.00]\n",
      " [ 98.97  99.06  97.34  98.53  93.78  49739400.00]\n",
      " [ 100.55  100.69  98.84  99.96  95.14  49154200.00]\n",
      " [ 100.32  101.19  97.30  97.39  92.70  62439600.00]\n",
      " [ 97.96  100.48  95.74  99.52  94.73  63170100.00]\n",
      " [ 96.20  97.71  95.36  97.13  92.45  79010000.00]\n",
      " [ 98.41  98.65  95.50  96.66  92.00  53087700.00]\n",
      " [ 95.10  98.19  93.42  96.79  92.13  72334400.00]\n",
      " [ 97.06  97.88  94.94  96.30  91.66  52161500.00]\n",
      " [ 98.63  101.46  98.37  101.42  96.53  65800500.00]\n",
      " [ 101.52  101.53  99.21  99.44  94.65  51794500.00]\n",
      " [ 99.93  100.88  98.07  99.99  95.17  75077000.00]\n",
      " [ 96.04  96.63  93.34  93.42  88.92  133369700.00]\n",
      " [ 93.79  94.52  92.39  94.09  89.56  55678800.00]\n",
      " [ 94.79  97.34  94.35  97.34  92.65  64416500.00]\n",
      " [ 96.47  96.71  95.40  96.43  91.78  40943500.00]]\n"
     ]
    }
   ],
   "source": [
    "january = stock2016[0:20]\n",
    "print(january)"
   ]
  },
  {
   "cell_type": "code",
   "execution_count": 111,
   "id": "3586edea",
   "metadata": {},
   "outputs": [
    {
     "name": "stdout",
     "output_type": "stream",
     "text": [
      "[[ 102.61  105.37  102.00  105.35  100.27  100.00]\n",
      " [ 105.75  105.85  102.41  102.71  97.76  55791000.00]\n",
      " [ 100.56  102.37  99.87  100.70  95.85  68457400.00]\n",
      " [ 98.68  100.13  96.43  96.45  91.80  81094400.00]\n",
      " [ 98.55  99.11  96.76  96.96  92.29  70798000.00]\n",
      " [ 98.97  99.06  97.34  98.53  93.78  49739400.00]\n",
      " [ 100.55  100.69  98.84  99.96  95.14  49154200.00]\n",
      " [ 100.32  101.19  97.30  97.39  92.70  62439600.00]\n",
      " [ 97.96  100.48  95.74  99.52  94.73  63170100.00]\n",
      " [ 96.20  97.71  95.36  97.13  92.45  79010000.00]\n",
      " [ 98.41  98.65  95.50  96.66  92.00  53087700.00]\n",
      " [ 95.10  98.19  93.42  96.79  92.13  72334400.00]\n",
      " [ 97.06  97.88  94.94  96.30  91.66  52161500.00]\n",
      " [ 98.63  101.46  98.37  101.42  96.53  65800500.00]\n",
      " [ 101.52  101.53  99.21  99.44  94.65  51794500.00]\n",
      " [ 99.93  100.88  98.07  99.99  95.17  75077000.00]\n",
      " [ 96.04  96.63  93.34  93.42  88.92  133369700.00]\n",
      " [ 93.79  94.52  92.39  94.09  89.56  55678800.00]\n",
      " [ 94.79  97.34  94.35  97.34  92.65  64416500.00]\n",
      " [ 96.47  96.71  95.40  96.43  91.78  40943500.00]]\n"
     ]
    }
   ],
   "source": [
    "january[0,5] = 100\n",
    "print(january)"
   ]
  },
  {
   "cell_type": "code",
   "execution_count": 112,
   "id": "187181c7",
   "metadata": {},
   "outputs": [
    {
     "name": "stdout",
     "output_type": "stream",
     "text": [
      "[[ 102.61  105.37  102.00  105.35  100.27  100.00]\n",
      " [ 105.75  105.85  102.41  102.71  97.76  55791000.00]\n",
      " [ 100.56  102.37  99.87  100.70  95.85  68457400.00]\n",
      " ...\n",
      " [ 115.59  116.52  115.59  116.52  113.37  14249500.00]\n",
      " [ 116.52  117.80  116.49  117.26  114.09  18296900.00]\n",
      " [ 117.52  118.02  116.20  116.76  113.61  20905900.00]]\n"
     ]
    }
   ],
   "source": [
    "print(stock2016)"
   ]
  },
  {
   "cell_type": "code",
   "execution_count": 113,
   "id": "bd03aa1a",
   "metadata": {},
   "outputs": [
    {
     "name": "stdout",
     "output_type": "stream",
     "text": [
      "[[ 102.61  105.37  102.00  105.35  100.27  100.00]\n",
      " [ 105.75  105.85  102.41  102.71  97.76  55791000.00]\n",
      " [ 100.56  102.37  99.87  100.70  95.85  68457400.00]\n",
      " [ 98.68  100.13  96.43  96.45  91.80  81094400.00]\n",
      " [ 98.55  99.11  96.76  96.96  92.29  70798000.00]]\n"
     ]
    }
   ],
   "source": [
    "np.set_printoptions(formatter={'float': '{: 6.2f}'.format})\n",
    "print(stock2016[0:5])"
   ]
  },
  {
   "cell_type": "code",
   "execution_count": 116,
   "id": "81db52af",
   "metadata": {},
   "outputs": [
    {
     "name": "stdout",
     "output_type": "stream",
     "text": [
      "Maximum value in Close column in 2016:  81094400.0\n",
      "Minimum value in Close column in 2016:  91.803276\n"
     ]
    }
   ],
   "source": [
    "maxClose2016 = stock2016[3].max(axis = 0)\n",
    "print('Maximum value in Close column in 2016: ',maxClose2016)\n",
    "\n",
    "minClose2016 = stock2016[3].min(axis = 0)\n",
    "print('Minimum value in Close column in 2016: ',minClose2016)"
   ]
  },
  {
   "cell_type": "markdown",
   "id": "4cbe452d",
   "metadata": {},
   "source": [
    "Finally, vertically slice the High and Low price columns and display just their first 5 rows."
   ]
  },
  {
   "cell_type": "code",
   "execution_count": 126,
   "id": "187a4d8b",
   "metadata": {},
   "outputs": [
    {
     "name": "stdout",
     "output_type": "stream",
     "text": [
      "[[ 105.37  102.00]\n",
      " [ 105.85  102.41]\n",
      " [ 102.37  99.87]\n",
      " [ 100.13  96.43]\n",
      " [ 99.11  96.76]]\n"
     ]
    }
   ],
   "source": [
    "verticalHighLow = stock2016[:, [1,2]][0:5]\n",
    "print(verticalHighLow)"
   ]
  },
  {
   "cell_type": "code",
   "execution_count": 128,
   "id": "f1788c66",
   "metadata": {},
   "outputs": [
    {
     "name": "stdout",
     "output_type": "stream",
     "text": [
      "[[ 102.61  105.35]\n",
      " [ 105.75  102.71]\n",
      " [ 100.56  100.70]\n",
      " [ 98.68  96.45]\n",
      " [ 98.55  96.96]]\n"
     ]
    }
   ],
   "source": [
    "openClose = stock2016[:, [0,3]]\n",
    "print(openClose[0:5])"
   ]
  },
  {
   "cell_type": "code",
   "execution_count": 133,
   "id": "6eca246e",
   "metadata": {},
   "outputs": [
    {
     "name": "stdout",
     "output_type": "stream",
     "text": [
      "[[ 136.57  126.42]\n",
      " [ 140.75  123.25]\n",
      " [ 133.85  120.84]\n",
      " [ 131.34  115.74]\n",
      " [ 131.17  116.35]]\n"
     ]
    }
   ],
   "source": [
    "projection = openClose\n",
    "projection[:, [0]] = projection[:, [0]] * 1.1\n",
    "projection[:, [1]] = projection[:, [1]] * 1.2\n",
    "\n",
    "print(projection[0:5])"
   ]
  },
  {
   "cell_type": "code",
   "execution_count": 149,
   "id": "8c970956",
   "metadata": {},
   "outputs": [
    {
     "name": "stdout",
     "output_type": "stream",
     "text": [
      "[['2016-01-04' '67649400']\n",
      " ['2016-01-05' '55791000']\n",
      " ['2016-01-06' '68457400']\n",
      " ['2016-01-07' '81094400']\n",
      " ['2016-01-08' '70798000']\n",
      " ['2016-01-11' '49739400']\n",
      " ['2016-01-12' '49154200']\n",
      " ['2016-01-13' '62439600']\n",
      " ['2016-01-14' '63170100']\n",
      " ['2016-01-15' '79010000']\n",
      " ['2016-01-19' '53087700']\n",
      " ['2016-01-20' '72334400']\n",
      " ['2016-01-21' '52161500']\n",
      " ['2016-01-22' '65800500']\n",
      " ['2016-01-25' '51794500']\n",
      " ['2016-01-26' '75077000']\n",
      " ['2016-01-27' '133369700']\n",
      " ['2016-01-28' '55678800']\n",
      " ['2016-01-29' '64416500']\n",
      " ['2016-02-01' '40943500']\n",
      " ['2016-02-02' '37357200']\n",
      " ['2016-02-03' '45964300']\n",
      " ['2016-02-04' '46471700']\n",
      " ['2016-02-05' '46418100']\n",
      " ['2016-02-08' '54021400']\n",
      " ['2016-02-09' '44331200']\n",
      " ['2016-02-10' '42343600']\n",
      " ['2016-02-11' '50074700']\n",
      " ['2016-02-12' '40351400']\n",
      " ['2016-02-16' '49057900']\n",
      " ['2016-02-17' '44863200']\n",
      " ['2016-02-18' '39021000']\n",
      " ['2016-02-19' '35374200']\n",
      " ['2016-02-22' '34280800']\n",
      " ['2016-02-23' '31942600']\n",
      " ['2016-02-24' '36255700']\n",
      " ['2016-02-25' '27582700']\n",
      " ['2016-02-26' '28991100']\n",
      " ['2016-02-29' '35216300']\n",
      " ['2016-03-01' '50407100']\n",
      " ['2016-03-02' '33169600']\n",
      " ['2016-03-03' '36955700']\n",
      " ['2016-03-04' '46055100']\n",
      " ['2016-03-07' '35828900']\n",
      " ['2016-03-08' '31561900']\n",
      " ['2016-03-09' '27201700']\n",
      " ['2016-03-10' '33513600']\n",
      " ['2016-03-11' '27408200']\n",
      " ['2016-03-14' '25076100']\n",
      " ['2016-03-15' '40067700']\n",
      " ['2016-03-16' '38303500']\n",
      " ['2016-03-17' '34420700']\n",
      " ['2016-03-18' '44205200']\n",
      " ['2016-03-21' '35502700']\n",
      " ['2016-03-22' '32444400']\n",
      " ['2016-03-23' '25703500']\n",
      " ['2016-03-24' '26133000']\n",
      " ['2016-03-28' '19411400']\n",
      " ['2016-03-29' '31190100']\n",
      " ['2016-03-30' '45601100']\n",
      " ['2016-03-31' '25888400']\n",
      " ['2016-04-01' '25874000']\n",
      " ['2016-04-04' '37356200']\n",
      " ['2016-04-05' '26578700']\n",
      " ['2016-04-06' '26404100']\n",
      " ['2016-04-07' '31801900']\n",
      " ['2016-04-08' '23581700']\n",
      " ['2016-04-11' '29407500']\n",
      " ['2016-04-12' '27232300']\n",
      " ['2016-04-13' '33257300']\n",
      " ['2016-04-14' '25473900']\n",
      " ['2016-04-15' '46939000']\n",
      " ['2016-04-18' '60834000']\n",
      " ['2016-04-19' '32384900']\n",
      " ['2016-04-20' '30611000']\n",
      " ['2016-04-21' '31552500']\n",
      " ['2016-04-22' '33683100']\n",
      " ['2016-04-25' '28031600']\n",
      " ['2016-04-26' '56016200']\n",
      " ['2016-04-27' '114602100']\n",
      " ['2016-04-28' '82242700']\n",
      " ['2016-04-29' '68531500']\n",
      " ['2016-05-02' '48160100']\n",
      " ['2016-05-03' '56831300']\n",
      " ['2016-05-04' '41025500']\n",
      " ['2016-05-05' '35890500']\n",
      " ['2016-05-06' '43458200']\n",
      " ['2016-05-09' '32936400']\n",
      " ['2016-05-10' '33686800']\n",
      " ['2016-05-11' '28719100']\n",
      " ['2016-05-12' '76314700']\n",
      " ['2016-05-13' '44392800']\n",
      " ['2016-05-16' '61259800']\n",
      " ['2016-05-17' '46916900']\n",
      " ['2016-05-18' '42062400']\n",
      " ['2016-05-19' '30442100']\n",
      " ['2016-05-20' '32026000']\n",
      " ['2016-05-23' '38018600']\n",
      " ['2016-05-24' '35140200']\n",
      " ['2016-05-25' '38168800']\n",
      " ['2016-05-26' '56331200']\n",
      " ['2016-05-27' '36229500']\n",
      " ['2016-05-31' '42307200']\n",
      " ['2016-06-01' '29173300']\n",
      " ['2016-06-02' '40191600']\n",
      " ['2016-06-03' '28062900']\n",
      " ['2016-06-06' '23292500']\n",
      " ['2016-06-07' '22409500']\n",
      " ['2016-06-08' '20848100']\n",
      " ['2016-06-09' '26601400']\n",
      " ['2016-06-10' '31712900']\n",
      " ['2016-06-13' '38020500']\n",
      " ['2016-06-14' '31931900']\n",
      " ['2016-06-15' '29445200']\n",
      " ['2016-06-16' '31326800']\n",
      " ['2016-06-17' '61008200']\n",
      " ['2016-06-20' '34411900']\n",
      " ['2016-06-21' '35546400']\n",
      " ['2016-06-22' '29219100']\n",
      " ['2016-06-23' '32240200']\n",
      " ['2016-06-24' '75311400']\n",
      " ['2016-06-27' '45489600']\n",
      " ['2016-06-28' '40444900']\n",
      " ['2016-06-29' '36531000']\n",
      " ['2016-06-30' '35836400']\n",
      " ['2016-07-01' '26026500']\n",
      " ['2016-07-05' '27705200']\n",
      " ['2016-07-06' '30949100']\n",
      " ['2016-07-07' '25139600']\n",
      " ['2016-07-08' '28912100']\n",
      " ['2016-07-11' '23794900']\n",
      " ['2016-07-12' '24167500']\n",
      " ['2016-07-13' '25892200']\n",
      " ['2016-07-14' '38919000']\n",
      " ['2016-07-15' '30137000']\n",
      " ['2016-07-18' '36493900']\n",
      " ['2016-07-19' '23779900']\n",
      " ['2016-07-20' '26276000']\n",
      " ['2016-07-21' '32702000']\n",
      " ['2016-07-22' '28313700']\n",
      " ['2016-07-25' '40382900']\n",
      " ['2016-07-26' '56239800']\n",
      " ['2016-07-27' '92344800']\n",
      " ['2016-07-28' '39869800']\n",
      " ['2016-07-29' '27733700']\n",
      " ['2016-08-01' '38167900']\n",
      " ['2016-08-02' '33816600']\n",
      " ['2016-08-03' '30202600']\n",
      " ['2016-08-04' '27408700']\n",
      " ['2016-08-05' '40553400']\n",
      " ['2016-08-08' '28037200']\n",
      " ['2016-08-09' '26315200']\n",
      " ['2016-08-10' '24008500']\n",
      " ['2016-08-11' '27484500']\n",
      " ['2016-08-12' '18660400']\n",
      " ['2016-08-15' '25868200']\n",
      " ['2016-08-16' '33794400']\n",
      " ['2016-08-17' '25356000']\n",
      " ['2016-08-18' '21984700']\n",
      " ['2016-08-19' '25368100']\n",
      " ['2016-08-22' '25820200']\n",
      " ['2016-08-23' '21257700']\n",
      " ['2016-08-24' '23675100']\n",
      " ['2016-08-25' '25086200']\n",
      " ['2016-08-26' '27766300']\n",
      " ['2016-08-29' '24970300']\n",
      " ['2016-08-30' '24863900']\n",
      " ['2016-08-31' '29662400']\n",
      " ['2016-09-01' '26701500']\n",
      " ['2016-09-02' '26802500']\n",
      " ['2016-09-06' '26880400']\n",
      " ['2016-09-07' '42364300']\n",
      " ['2016-09-08' '53002000']\n",
      " ['2016-09-09' '46557000']\n",
      " ['2016-09-12' '45292800']\n",
      " ['2016-09-13' '62176200']\n",
      " ['2016-09-14' '110888700']\n",
      " ['2016-09-15' '89983600']\n",
      " ['2016-09-16' '79886900']\n",
      " ['2016-09-19' '47023000']\n",
      " ['2016-09-20' '34514300']\n",
      " ['2016-09-21' '36003200']\n",
      " ['2016-09-22' '31074000']\n",
      " ['2016-09-23' '52481200']\n",
      " ['2016-09-26' '29869400']\n",
      " ['2016-09-27' '24607400']\n",
      " ['2016-09-28' '29641100']\n",
      " ['2016-09-29' '35887000']\n",
      " ['2016-09-30' '36379100']\n",
      " ['2016-10-03' '21701800']\n",
      " ['2016-10-04' '29736800']\n",
      " ['2016-10-05' '21453100']\n",
      " ['2016-10-06' '28779300']\n",
      " ['2016-10-07' '24358400']\n",
      " ['2016-10-10' '36236000']\n",
      " ['2016-10-11' '64041000']\n",
      " ['2016-10-12' '37586800']\n",
      " ['2016-10-13' '35192400']\n",
      " ['2016-10-14' '35652200']\n",
      " ['2016-10-17' '23624900']\n",
      " ['2016-10-18' '24553500']\n",
      " ['2016-10-19' '20034600']\n",
      " ['2016-10-20' '24125800']\n",
      " ['2016-10-21' '23192700']\n",
      " ['2016-10-24' '23538700']\n",
      " ['2016-10-25' '48129000']\n",
      " ['2016-10-26' '66134200']\n",
      " ['2016-10-27' '34562000']\n",
      " ['2016-10-28' '37861700']\n",
      " ['2016-10-31' '26419400']\n",
      " ['2016-11-01' '43825800']\n",
      " ['2016-11-02' '28331700']\n",
      " ['2016-11-03' '26932600']\n",
      " ['2016-11-04' '30837000']\n",
      " ['2016-11-07' '32560000']\n",
      " ['2016-11-08' '24054500']\n",
      " ['2016-11-09' '59176400']\n",
      " ['2016-11-10' '57134500']\n",
      " ['2016-11-11' '34094100']\n",
      " ['2016-11-14' '51175500']\n",
      " ['2016-11-15' '32264500']\n",
      " ['2016-11-16' '58840500']\n",
      " ['2016-11-17' '27632000']\n",
      " ['2016-11-18' '28428900']\n",
      " ['2016-11-21' '29264600']\n",
      " ['2016-11-22' '25965500']\n",
      " ['2016-11-23' '27426400']\n",
      " ['2016-11-25' '11475900']\n",
      " ['2016-11-28' '27194000']\n",
      " ['2016-11-29' '28528800']\n",
      " ['2016-11-30' '36162300']\n",
      " ['2016-12-01' '37086900']\n",
      " ['2016-12-02' '26528000']\n",
      " ['2016-12-05' '34324500']\n",
      " ['2016-12-06' '26195500']\n",
      " ['2016-12-07' '29998700']\n",
      " ['2016-12-08' '27068300']\n",
      " ['2016-12-09' '34402600']\n",
      " ['2016-12-12' '26374400']\n",
      " ['2016-12-13' '43733800']\n",
      " ['2016-12-14' '34031800']\n",
      " ['2016-12-15' '46524500']\n",
      " ['2016-12-16' '44351100']\n",
      " ['2016-12-19' '27779400']\n",
      " ['2016-12-20' '21425000']\n",
      " ['2016-12-21' '23783200']\n",
      " ['2016-12-22' '26085900']\n",
      " ['2016-12-23' '14249500']\n",
      " ['2016-12-27' '18296900']\n",
      " ['2016-12-28' '20905900']]\n"
     ]
    }
   ],
   "source": [
    "import numpy as np\n",
    "import pandas as pd\n",
    "import matplotlib.pyplot as plt\n",
    "import datetime\n",
    "import csv\n",
    "\n",
    "with open('AAPL-2016.csv', newline = '') as f:\n",
    "    reader = csv.DictReader(f)\n",
    "    stock1 = np.empty((0,2))\n",
    "    for row in reader:\n",
    "        oneRow = np.array([[row['Date'], row['Volume']]])\n",
    "        stock1 = np.append(stock1, oneRow, axis=0)\n",
    "\n",
    "stockDateVolume2016 = np.array(stock1)\n",
    "print(stockDateVolume2016)"
   ]
  },
  {
   "cell_type": "code",
   "execution_count": 146,
   "id": "3cd6cdb7",
   "metadata": {},
   "outputs": [
    {
     "data": {
      "image/png": "[encoded data removed]",
      "text/plain": [
       "<Figure size 432x288 with 1 Axes>"
      ]
     },
     "metadata": {
      "needs_background": "light"
     },
     "output_type": "display_data"
    }
   ],
   "source": [
    "date = [datetime.datetime.strptime(x,'%Y-%m-%d') for x in stockDateVolume2016[:,0]]\n",
    "data = pd.Series(np.float64(stockDateVolume2016[:,1]), index=date)\n",
    "data.plot()\n",
    "plt.show() "
   ]
  },
  {
   "cell_type": "code",
   "execution_count": 170,
   "id": "e2c3aaee",
   "metadata": {},
   "outputs": [
    {
     "data": {
      "image/png": "[encoded data removed]",
      "text/plain": [
       "<Figure size 432x288 with 1 Axes>"
      ]
     },
     "metadata": {
      "needs_background": "light"
     },
     "output_type": "display_data"
    }
   ],
   "source": [
    "myDataFrame = pd.read_csv('AAPL-2016.csv',usecols=['Date','Volume'])\n",
    "myDataFrame.plot()\n",
    "plt.show() "
   ]
  },
  {
   "cell_type": "code",
   "execution_count": 171,
   "id": "1fdc3feb",
   "metadata": {},
   "outputs": [
    {
     "data": {
      "image/png": "[encoded data removed]",
      "text/plain": [
       "<Figure size 432x288 with 1 Axes>"
      ]
     },
     "metadata": {
      "needs_background": "light"
     },
     "output_type": "display_data"
    }
   ],
   "source": [
    "newDataFrame = myDataFrame.head(40)\n",
    "newDataFrame.plot()\n",
    "plt.show()"
   ]
  },
  {
   "cell_type": "code",
   "execution_count": 175,
   "id": "421627b4",
   "metadata": {},
   "outputs": [
    {
     "data": {
      "image/png": "[encoded data removed]",
      "text/plain": [
       "<Figure size 432x288 with 1 Axes>"
      ]
     },
     "metadata": {
      "needs_background": "light"
     },
     "output_type": "display_data"
    }
   ],
   "source": [
    "myDataFrame2016= pd.read_csv('AAPL-2016.csv',usecols=['Open'])\n",
    "myDataFrame2017 = pd.read_csv('AAPL-2017.csv',usecols=['Open'])\n",
    "\n",
    "plt.plot(myDataFrame2016)\n",
    "plt.plot(myDataFrame2017)\n",
    "plt.show()"
   ]
  },
  {
   "cell_type": "code",
   "execution_count": null,
   "id": "619f549c",
   "metadata": {},
   "outputs": [],
   "source": []
  }
 ],
 "metadata": {
  "kernelspec": {
   "display_name": "Python 3",
   "language": "python",
   "name": "python3"
  },
  "language_info": {
   "codemirror_mode": {
    "name": "ipython",
    "version": 3
   },
   "file_extension": ".py",
   "mimetype": "text/x-python",
   "name": "python",
   "nbconvert_exporter": "python",
   "pygments_lexer": "ipython3",
   "version": "3.8.8"
  }
 },
 "nbformat": 4,
 "nbformat_minor": 5
}
