{
 "cells": [
  {
   "cell_type": "code",
   "execution_count": 6,
   "id": "bb25cc85",
   "metadata": {},
   "outputs": [
    {
     "name": "stdout",
     "output_type": "stream",
     "text": [
      "Enter a number: 3\n",
      "number inputed is  3\n",
      "3  is odd. \n"
     ]
    }
   ],
   "source": [
    "number = int(input(\"Enter a number: \"))\n",
    "\n",
    "print(\"number inputed is \",number)\n",
    "\n",
    "if (number%2) == 0:\n",
    "    print(number, \" is even. \" )\n",
    "else:\n",
    "    print(number, \" is odd. \")"
   ]
  },
  {
   "cell_type": "code",
   "execution_count": 7,
   "id": "a7d9079d",
   "metadata": {},
   "outputs": [
    {
     "name": "stdout",
     "output_type": "stream",
     "text": [
      "Henry\n",
      "21\n",
      "Henry 21\n"
     ]
    }
   ],
   "source": [
    "name = \"Henry\"\n",
    "age = 21\n",
    "\n",
    "print(name)\n",
    "print(age)\n",
    "\n",
    "combined = name + \" {0}\".format(age)\n",
    "print(combined)"
   ]
  },
  {
   "cell_type": "code",
   "execution_count": 30,
   "id": "50544408",
   "metadata": {},
   "outputs": [
    {
     "name": "stdout",
     "output_type": "stream",
     "text": [
      "4   16   "
     ]
    }
   ],
   "source": [
    "list = [1, 4, 9, 16, 25]\n",
    "for elements in list:\n",
    "    if elements%2 == 0:\n",
    "        print(elements , ' ', end = \" \")"
   ]
  },
  {
   "cell_type": "code",
   "execution_count": 24,
   "id": "d68763d6",
   "metadata": {},
   "outputs": [
    {
     "name": "stdout",
     "output_type": "stream",
     "text": [
      "The sum of my ages is  231\n",
      "The sum of my ages in months is  2772\n",
      "The sum of my ages in days is  84315\n",
      "The sum of my ages in hours is  2023560\n"
     ]
    }
   ],
   "source": [
    "age = 0\n",
    "i = 1\n",
    "\n",
    "while i <= 21:\n",
    "    age = age + i\n",
    "    i = i+1\n",
    "    \n",
    "print(\"The sum of my ages is \", age)\n",
    "\n",
    "months = age * 12\n",
    "print(\"The sum of my ages in months is \", months)\n",
    "\n",
    "days = age * 365\n",
    "print(\"The sum of my ages in days is \", days)\n",
    "\n",
    "hours = days * 24\n",
    "print(\"The sum of my ages in hours is \", hours)\n"
   ]
  },
  {
   "cell_type": "code",
   "execution_count": 10,
   "id": "eb0d54e0",
   "metadata": {},
   "outputs": [
    {
     "name": "stdout",
     "output_type": "stream",
     "text": [
      "<class 'int'>\n",
      "<class 'int'>\n",
      "<class 'str'>\n",
      "<class 'complex'>\n",
      "<class 'tuple'>\n",
      "<class 'list'>\n",
      "<class 'NoneType'>\n"
     ]
    }
   ],
   "source": [
    "print(type(5))\n",
    "print(type(5000*5000000))\n",
    "print(type('j'))\n",
    "print(type(1j))\n",
    "print(type((1,)))\n",
    "print(type([1]))\n",
    "print(type(None))"
   ]
  },
  {
   "cell_type": "code",
   "execution_count": 29,
   "id": "1df7ead7",
   "metadata": {},
   "outputs": [
    {
     "name": "stdout",
     "output_type": "stream",
     "text": [
      "1  1  2  3  5  8  13  21  34  55  89  144  233  377  610  987  1597  2584  4181  6765  "
     ]
    }
   ],
   "source": [
    "def fibonacci(n):\n",
    "    count = 0\n",
    "    a,b = 0,1\n",
    "    \n",
    "    while count < n:\n",
    "        print(b, ' ', end='')\n",
    "        a,b = b, a+b\n",
    "        count = count + 1\n",
    "    \n",
    "    \n",
    "fibonacci(20)\n",
    "        \n",
    "        \n",
    "        "
   ]
  },
  {
   "cell_type": "code",
   "execution_count": 5,
   "id": "7ca869e7",
   "metadata": {},
   "outputs": [
    {
     "name": "stdout",
     "output_type": "stream",
     "text": [
      "1 1 2 3 5 8 13 "
     ]
    }
   ],
   "source": [
    "def printFibonacciNumbers(n): \n",
    "      \n",
    "    f1 = 0\n",
    "    f2 = 1\n",
    "    if (n < 1): \n",
    "        return\n",
    "    for x in range(0, n): \n",
    "        print(f2, end = \" \") \n",
    "        next = f1 + f2 \n",
    "        f1 = f2 \n",
    "        f2 = next\n",
    "          \n",
    "# Driven code \n",
    "printFibonacciNumbers(7) "
   ]
  },
  {
   "cell_type": "code",
   "execution_count": 25,
   "id": "57bf75dc",
   "metadata": {},
   "outputs": [
    {
     "name": "stdout",
     "output_type": "stream",
     "text": [
      "The last letter of my name  Agyemang  is  g\n",
      "A : g : y : e : m : a : n : g : "
     ]
    }
   ],
   "source": [
    "last = \"Agyemang\"\n",
    "print(\"The last letter of my name \", last, \" is \",last[-1])\n",
    "\n",
    "for letter in last:\n",
    "    print(letter, ':', end= \" \")"
   ]
  },
  {
   "cell_type": "code",
   "execution_count": 1,
   "id": "544e6d6d",
   "metadata": {},
   "outputs": [
    {
     "name": "stdout",
     "output_type": "stream",
     "text": [
      "Enter a number between 1 and 8:2\n",
      "Enter a number between 1 and 8:3\n",
      "Enter a number between 1 and 8:4\n",
      "Enter a number between 1 and 8:5\n",
      "Enter a number between 1 and 8:6\n",
      "Enter a number between 1 and 8:7\n",
      "Enter a number between 1 and 8:6\n",
      "Enter a number between 1 and 8:5\n",
      "Enter a number between 1 and 8:4\n",
      "Enter a number between 1 and 8:5\n",
      "[2, 3, 4, 5, 6, 7, 6, 5, 4, 5]\n",
      "Count of 5 in list is 3\n"
     ]
    }
   ],
   "source": [
    "count = 0\n",
    "\n",
    "list1 = []\n",
    "\n",
    "while count < 10:\n",
    "    num = int(input(\"Enter a number between 1 and 8:\"))\n",
    "    \n",
    "    if(num <= 1 or num > 8):\n",
    "        count = count - 1\n",
    "    \n",
    "    else:\n",
    "        list1.append(num)\n",
    "        \n",
    "    count = count + 1\n",
    "        \n",
    "print(list1)\n",
    "print('Count of 5 in list is', list1.count(5))"
   ]
  },
  {
   "cell_type": "code",
   "execution_count": 27,
   "id": "838bbd39",
   "metadata": {},
   "outputs": [
    {
     "name": "stdout",
     "output_type": "stream",
     "text": [
      "[1, 9, 25]\n"
     ]
    }
   ],
   "source": [
    "list3 = [1, 4, 9, 16, 25]\n",
    "\n",
    "list4 = [element for element in list3 if element%2 != 0]\n",
    "\n",
    "print(list4)"
   ]
  },
  {
   "cell_type": "code",
   "execution_count": 28,
   "id": "77e75291",
   "metadata": {},
   "outputs": [
    {
     "name": "stdout",
     "output_type": "stream",
     "text": [
      "[1, 2, 3, 4, 5]\n",
      "[5, 1, 2, 3, 4]\n"
     ]
    }
   ],
   "source": [
    " list5 = [1,2,3,4,5]\n",
    "print(list5)\n",
    "\n",
    "def listfunc(list):\n",
    "    lista = list[-1:] + list[:-1]\n",
    "    print(lista)\n",
    "    \n",
    "listfunc(list5)"
   ]
  },
  {
   "cell_type": "markdown",
   "id": "e45ba3ba",
   "metadata": {},
   "source": [
    "Write a function that takes a list and a variable number of indices. The function should return a tuple of the values at those indices."
   ]
  },
  {
   "cell_type": "code",
   "execution_count": 55,
   "id": "5ab920ac",
   "metadata": {},
   "outputs": [
    {
     "name": "stdout",
     "output_type": "stream",
     "text": [
      "(2, 4, 6)\n"
     ]
    }
   ],
   "source": [
    "def test1(list, **kwargs):\n",
    "    list1 = []\n",
    "    \n",
    "    for arg in kwargs.values():\n",
    "        list1.append(list[arg])    \n",
    "    \n",
    "    return tuple(list1)\n",
    "\n",
    "list=[1,2,3,4,5,6,7,8,9]\n",
    "\n",
    "print(test1(list, index1=1 , index3 = 3, index5=5))"
   ]
  },
  {
   "cell_type": "code",
   "execution_count": 26,
   "id": "9e509644",
   "metadata": {},
   "outputs": [
    {
     "name": "stdout",
     "output_type": "stream",
     "text": [
      "[2, 3, 4, 5, 6, 7, 8, 9]\n"
     ]
    }
   ],
   "source": [
    "def test1(list, num):\n",
    "    return (num, list[num])\n",
    "    \n",
    "list = [1,2,3,4,5,6,7,8,9]\n",
    "#test(index1=1 , index3 = 3)\n",
    "\n",
    "test1(list, 1)"
   ]
  },
  {
   "cell_type": "code",
   "execution_count": null,
   "id": "6afc4483",
   "metadata": {},
   "outputs": [],
   "source": [
    "#Dictionaries\n",
    "seasons = {\"Spring\": (\"Mar\", \"Apr\", \"May\"),\n",
    "          \"Winter\": (\"Dec\", \"Jan\", \"Feb\")}"
   ]
  },
  {
   "cell_type": "markdown",
   "id": "70efd5e2",
   "metadata": {},
   "source": [
    "Write a function that takes named parameters and returns the parameters as a Dictionary of parameter name -> value"
   ]
  },
  {
   "cell_type": "code",
   "execution_count": 56,
   "id": "7b9db411",
   "metadata": {},
   "outputs": [
    {
     "name": "stdout",
     "output_type": "stream",
     "text": [
      "{'a': 2, 'b': 2, 'c': 3}\n"
     ]
    }
   ],
   "source": [
    "def named(**kwargs):\n",
    "    dict = {}\n",
    "    for key in kwargs.keys():\n",
    "        dict[key]= kwargs[key]\n",
    "        \n",
    "    return dict\n",
    "\n",
    "print(named(a=2, b=2, c =3))"
   ]
  },
  {
   "cell_type": "code",
   "execution_count": 57,
   "id": "0e6cf4ac",
   "metadata": {},
   "outputs": [
    {
     "name": "stdout",
     "output_type": "stream",
     "text": [
      "{'Winter': ('Dec', 'Jan', 'Feb'), 'Spring': ('Mar', 'Apr', 'May'), 'Fall': ('Jun', 'Jul', 'Aug'), 'Summer': ('Sep', 'Oct', 'Nov')}\n"
     ]
    }
   ],
   "source": [
    "def season(**kwargs):\n",
    "    dict = {}\n",
    "    \n",
    "    for key in kwargs.keys():\n",
    "        dict[key]= kwargs[key]\n",
    "        \n",
    "    return dict\n",
    "\n",
    "seasons = season(Winter = (\"Dec\", \"Jan\", \"Feb\"), Spring = (\"Mar\", \"Apr\", \"May\"),\n",
    "                 Fall = (\"Jun\", \"Jul\", \"Aug\"),Summer =(\"Sep\", \"Oct\", \"Nov\"))\n",
    "\n",
    "print(seasons)"
   ]
  },
  {
   "cell_type": "code",
   "execution_count": null,
   "id": "b2bffd11",
   "metadata": {},
   "outputs": [],
   "source": []
  }
 ],
 "metadata": {
  "kernelspec": {
   "display_name": "Python 3",
   "language": "python",
   "name": "python3"
  },
  "language_info": {
   "codemirror_mode": {
    "name": "ipython",
    "version": 3
   },
   "file_extension": ".py",
   "mimetype": "text/x-python",
   "name": "python",
   "nbconvert_exporter": "python",
   "pygments_lexer": "ipython3",
   "version": "3.8.8"
  }
 },
 "nbformat": 4,
 "nbformat_minor": 5
}
